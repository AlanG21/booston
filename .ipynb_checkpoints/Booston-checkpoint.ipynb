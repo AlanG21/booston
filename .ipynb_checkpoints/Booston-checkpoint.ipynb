{
 "cells": [
  {
   "cell_type": "markdown",
   "id": "c8146861",
   "metadata": {
    "id": "c8146861"
   },
   "source": [
    "# Contenido del dataset\n",
    "Cada registro en la base de datos describe un suburbio o pueblo de Boston. Los datos se extrajeron del Área Estadística Metropolitana Estándar de Boston (SMSA) en 1970. Los atributos se definen de la siguiente manera (tomados del Repositorio de aprendizaje automático de UCI1):\n",
    "CRIM: tasa de criminalidad per cápita por ciudad\n",
    "ZN: proporción de suelo residencial zonificado para lotes de más de 25,000 pies cuadrados\n",
    "INDUS: proporción de acres comerciales no minoristas por ciudad\n",
    "CHAS: variable ficticia del río Charles (= 1 si el tramo limita con el río; 0 de lo contrario)\n",
    "NOX: concentración de óxidos nítricos (partes por 10 millones)\n",
    "https://archive.ics.uci.edu/ml/datasets/Housing\n",
    "\n",
    "Cargue el conjunto de datos 124\n",
    "RM: número promedio de habitaciones por vivienda\n",
    "AGE: proporción de unidades ocupadas por propietarios construidas antes de 1940\n",
    "DIS: distancias ponderadas a cinco centros de empleo  \n",
    "BostonRAD: índice de accesibilidad a autopistas\n",
    "radialesTAX: tasa de impuesto a la propiedad de valor total por $10,000\n",
    "PTRATIO: alumno -proporción de maestros por ciudad 12.\n",
    "B: 1000(Bk−0.63)2 donde Bk es la proporción de negros por ciudad 13.\n",
    "LSTAT: % de estatus más bajo de la población\n",
    "MEDV: valor medio de viviendas ocupadas por propietarios en miles de dólares\n",
    "Podemos ver que los atributos de entrada tienen una mezcla de unidades.\n",
    "\n"
   ]
  },
  {
   "cell_type": "code",
   "execution_count": 15,
   "id": "09ae2bfd",
   "metadata": {
    "id": "09ae2bfd"
   },
   "outputs": [],
   "source": [
    "# Importamos las librerias que vamos a utilizar\n",
    "import pandas as pd\n",
    "import numpy as np\n",
    "import matplotlib.pyplot as plt\n",
    "import os\n",
    "from pandas import read_csv\n",
    "\n",
    "# Le damos formato al dataset con los nombres de cada columna\n",
    "column_names = ['CRIM', 'ZN', 'INDUS', 'CHAS', 'NOX', 'RM', 'AGE', 'DIS', 'RAD', 'TAX', 'PTRATIO', 'B', 'LSTAT', 'MEDV']\n",
    "data = pd.read_csv('housing.csv', names=column_names)\n",
    "data_copy = data.copy()"
   ]
  },
  {
   "cell_type": "code",
   "execution_count": 16,
   "id": "d2d920be",
   "metadata": {
    "colab": {
     "base_uri": "https://localhost:8080/",
     "height": 206
    },
    "id": "d2d920be",
    "outputId": "f33f6cba-130c-4f17-a63a-bd75643d09e0"
   },
   "outputs": [],
   "source": [
    "# Muestra las columnas del dataset con los nombres asignados\n",
    "data_copy.head()"
   ]
  },
  {
   "cell_type": "code",
   "execution_count": 17,
   "id": "0f3f8e70",
   "metadata": {
    "colab": {
     "base_uri": "https://localhost:8080/"
    },
    "id": "0f3f8e70",
    "outputId": "d8d124ce-29c6-4c6c-c51d-ad6080f635bf"
   },
   "outputs": [],
   "source": [
    "#muestra las dimensiones del dataset\n",
    "data_copy.shape"
   ]
  },
  {
   "cell_type": "code",
   "execution_count": 18,
   "id": "0c009da0",
   "metadata": {
    "colab": {
     "base_uri": "https://localhost:8080/"
    },
    "id": "0c009da0",
    "outputId": "0b8d16a7-aaf6-412f-e102-6ea5b59e878e"
   },
   "outputs": [],
   "source": [
    "# Muestra la informacion de las columnas y los tipos de datos\n",
    "data_copy.info()"
   ]
  },
  {
   "cell_type": "code",
   "execution_count": 19,
   "id": "284b440f",
   "metadata": {
    "colab": {
     "base_uri": "https://localhost:8080/",
     "height": 364
    },
    "id": "284b440f",
    "outputId": "4a83869e-94af-4433-bd11-05d6bf375d62"
   },
   "outputs": [],
   "source": [
    "# Muestra estadisticas descriptivas de las columnas numéricas\n",
    "data_copy.describe()"
   ]
  },
  {
   "cell_type": "code",
   "execution_count": 20,
   "id": "a9fb0633",
   "metadata": {
    "colab": {
     "base_uri": "https://localhost:8080/"
    },
    "id": "a9fb0633",
    "outputId": "2144bc63-468f-4fc1-c66f-6c58a1733b09"
   },
   "outputs": [],
   "source": [
    "#Verificar valores nulos\n",
    "data_copy.isnull().sum()"
   ]
  },
  {
   "cell_type": "code",
   "execution_count": 21,
   "id": "5fd99bd2",
   "metadata": {
    "id": "5fd99bd2"
   },
   "outputs": [],
   "source": [
    "#Eliminamos los datos nullos (en esta ocasion no hay)\n",
    "data_copy=data_copy.dropna()"
   ]
  },
  {
   "cell_type": "code",
   "execution_count": 22,
   "id": "b53eeee1",
   "metadata": {
    "colab": {
     "base_uri": "https://localhost:8080/"
    },
    "id": "b53eeee1",
    "outputId": "eaaafc00-3298-4d90-f910-3479f9f6ea91"
   },
   "outputs": [],
   "source": [
    "#Checamos los tipos de datos de las columnas\n",
    "data_copy.dtypes"
   ]
  },
  {
   "cell_type": "code",
   "execution_count": 23,
   "id": "d9688dd3",
   "metadata": {
    "colab": {
     "base_uri": "https://localhost:8080/",
     "height": 436
    },
    "id": "d9688dd3",
    "outputId": "daae36f7-d7fd-4c00-eeb4-24b414edc41b"
   },
   "outputs": [],
   "source": [
    "# Crear una figura con subplots\n",
    "fig, ax = plt.subplots(ncols=7, nrows=2, figsize=(17, 8))\n",
    "ax = ax.flatten()  # Aplanar los subplots en un arreglo unidimensional\n",
    "index = 0  # Índice para recorrer los subplots\n",
    "colors = ['blue', 'orange', 'green', 'red', 'purple', 'brown']  # Colores para los boxplots\n",
    "\n",
    "# Iterar sobre las columnas del DataFrame\n",
    "for i, column in enumerate(data.columns):\n",
    "    # Crear el boxplot en el subplot correspondiente\n",
    "    ax[index].boxplot(data[column], patch_artist=True, boxprops=dict(facecolor=colors[i % len(colors)]))\n",
    "    ax[index].set_ylabel(column)  # Establecer el nombre de la columna en el eje y del subplot\n",
    "    index += 1  # Incrementar el índice para pasar al siguiente subplot\n",
    "\n",
    "plt.tight_layout(pad=0.4)  # Ajustar el espaciado entre subplots\n",
    "plt.show()  # Mostrar la figura con los boxplots"
   ]
  },
  {
   "cell_type": "code",
   "execution_count": null,
   "id": "4e2056f7",
   "metadata": {
    "colab": {
     "base_uri": "https://localhost:8080/"
    },
    "id": "4e2056f7",
    "outputId": "db33817f-01ba-46bc-ca62-5ab852c1834b"
   },
   "outputs": [],
   "source": [
    "#Este bucle itera a través de los elementos del diccionario data, donde k representa la clave\n",
    "#(nombre de la columna) y v representa los valores (columna de datos) correspondientes.\n",
    "for k, v in data_copy.items():\n",
    "    #calculamos el primer cuartil\n",
    "    q1 = v.quantile(0.25)\n",
    "    #calculamos el tercer cuartil\n",
    "    q3 = v.quantile(0.75)\n",
    "    #rango de  medida de dispersión de los datos.\n",
    "    irq = q3 - q1\n",
    "    # Filtra los valores en la columna v que se consideran valores atípicos. Se considera un valor atípico si\n",
    "    #está por debajo de q1 - 1.5 * irq o por encima de q3 + 1.5 * irq.\n",
    "    v_col = v[(v <= q1 - 1.5 * irq) | (v >= q3 + 1.5 * irq)]\n",
    "    # Calcula el porcentaje de valores atípicos en la columna v en relación con el tamaño total del conjunto de datos.\n",
    "    #Se utiliza np.shape para obtener el número de valores atípicos\n",
    "    perc = np.shape(v_col)[0] * 100.0 / np.shape(data_copy)[0]\n",
    "    #Imprime el nombre de la columna (k) y el porcentaje de valores atípicos (perc) en formato de cadena de texto\n",
    "    print(\"Columna %s anomalias= %.2f%%\" % (k, perc))"
   ]
  },
  {
   "cell_type": "code",
   "execution_count": null,
   "id": "701ff4a2",
   "metadata": {
    "colab": {
     "base_uri": "https://localhost:8080/",
     "height": 1000
    },
    "id": "701ff4a2",
    "outputId": "5bfa1617-9c8b-4d9e-8270-1985d63b50ff"
   },
   "outputs": [],
   "source": [
    "import matplotlib.pyplot as plt\n",
    "\n",
    "# Crear una figura y un conjunto de ejes\n",
    "fig, axes = plt.subplots(nrows=len(data_copy.columns), figsize=(10, 6*len(data.columns)))\n",
    "\n",
    "# Iterar a través de cada columna de datos\n",
    "for i, (column, values) in enumerate(data_copy.items()):\n",
    "    # Calcular los límites para definir las anomalías (por ejemplo, ± 3 desviaciones estándar)\n",
    "    anomaly_lower = values.mean() - 3 * values.std()\n",
    "    anomaly_upper = values.mean() + 3 * values.std()\n",
    "\n",
    "    # Crear una gráfica de dispersión de la columna de datos\n",
    "    axes[i].scatter(range(len(values)), values, color='blue', label='Datos normales')\n",
    "\n",
    "    # Filtrar y mostrar las anomalías en rojo\n",
    "    anomalies = values[(values < anomaly_lower) | (values > anomaly_upper)]\n",
    "    if len(anomalies) > 0:\n",
    "        axes[i].scatter(anomalies.index, anomalies, color='red', label='Anomalías')\n",
    "\n",
    "    # Configurar los límites y etiquetas de los ejes\n",
    "    axes[i].set_ylabel(column)\n",
    "    axes[i].set_xlabel('Índice')\n",
    "    axes[i].set_title('Gráfica de Dispersión - {}'.format(column))\n",
    "    axes[i].legend()\n",
    "\n",
    "# Ajustar el espaciado entre subtramas\n",
    "plt.tight_layout()\n",
    "\n",
    "# Mostrar la gráfica\n",
    "plt.show()\n"
   ]
  },
  {
   "cell_type": "code",
   "execution_count": null,
   "id": "e7ed93b3",
   "metadata": {
    "colab": {
     "base_uri": "https://localhost:8080/",
     "height": 553
    },
    "id": "e7ed93b3",
    "outputId": "220d6db8-1e93-4e84-e0c5-e4050aa1bd8c"
   },
   "outputs": [],
   "source": [
    "data_copy.corr()"
   ]
  },
  {
   "cell_type": "code",
   "execution_count": null,
   "id": "e6600e6d",
   "metadata": {
    "colab": {
     "base_uri": "https://localhost:8080/",
     "height": 770
    },
    "id": "e6600e6d",
    "outputId": "b6a6edd5-2dd7-4f98-fb65-1011f1c5cb8f"
   },
   "outputs": [],
   "source": [
    "import numpy as np\n",
    "import matplotlib.pyplot as plt\n",
    "\n",
    "# Obtener la matriz de correlación\n",
    "corr_matrix = data_copy.corr().abs().values\n",
    "\n",
    "# Crear la figura y el objeto de los ejes\n",
    "fig, ax = plt.subplots(figsize=(20, 10))\n",
    "\n",
    "# Crear el mapa de calor con imshow\n",
    "heatmap = ax.imshow(corr_matrix, cmap='coolwarm', vmin=0, vmax=1)\n",
    "\n",
    "# Añadir las anotaciones\n",
    "for i in range(corr_matrix.shape[0]):\n",
    "    for j in range(corr_matrix.shape[1]):\n",
    "        ax.annotate(f'{corr_matrix[i, j]:.2f}', xy=(j, i),\n",
    "                    ha='center', va='center', color='black')\n",
    "\n",
    "# Añadir la barra de color\n",
    "cbar = ax.figure.colorbar(heatmap, ax=ax)\n",
    "\n",
    "# Establecer etiquetas de los ejes\n",
    "ax.set_xticks(np.arange(corr_matrix.shape[1]))\n",
    "ax.set_yticks(np.arange(corr_matrix.shape[0]))\n",
    "ax.set_xticklabels(data_copy.columns)\n",
    "ax.set_yticklabels(data_copy.columns)\n",
    "\n",
    "# Girar las etiquetas de los ejes x\n",
    "plt.setp(ax.get_xticklabels(), rotation=45, ha=\"right\", rotation_mode=\"anchor\")\n",
    "\n",
    "# Mostrar la figura\n",
    "plt.show()\n"
   ]
  },
  {
   "cell_type": "code",
   "execution_count": null,
   "id": "6dd78761",
   "metadata": {
    "colab": {
     "base_uri": "https://localhost:8080/",
     "height": 461
    },
    "id": "6dd78761",
    "outputId": "254e3c03-3047-422e-dade-fddd5d6c49ce"
   },
   "outputs": [],
   "source": [
    "from sklearn import preprocessing\n",
    "import pandas as pd\n",
    "import matplotlib.pyplot as plt\n",
    "\n",
    "# Escalado de columnas\n",
    "min_max_scaler = preprocessing.MinMaxScaler()\n",
    "\n",
    "# Selección de columnas\n",
    "column_sels = ['LSTAT', 'INDUS', 'NOX', 'PTRATIO', 'RM', 'TAX', 'DIS', 'AGE']\n",
    "\n",
    "# Obtención de las columnas seleccionadas y la variable objetivo\n",
    "x = data_copy.loc[:, column_sels]\n",
    "y = data_copy['MEDV']\n",
    "\n",
    "# Escalado de las columnas seleccionadas\n",
    "x = pd.DataFrame(data=min_max_scaler.fit_transform(x), columns=column_sels)\n",
    "\n",
    "# Creación de la figura y los ejes\n",
    "fig, axs = plt.subplots(ncols=4, nrows=2, figsize=(20, 10))\n",
    "index = 0\n",
    "axs = axs.flatten()\n",
    "\n",
    "# Creación de los gráficos de dispersión con regresión lineal\n",
    "for i, k in enumerate(column_sels):\n",
    "    axs[i].scatter(x[k], y)\n",
    "    axs[i].set_xlabel(k)\n",
    "    axs[i].set_ylabel('MEDV')\n",
    "    axs[i].set_title(f'{k} vs MEDV')\n",
    "\n",
    "    # Ajuste de la regresión lineal\n",
    "    m, b = np.polyfit(x[k], y, 1)\n",
    "    axs[i].plot(x[k], m * x[k] + b, color='red')\n",
    "\n",
    "# Ajuste de la disposición de los gráficos\n",
    "plt.tight_layout(pad=0.4, w_pad=0.5, h_pad=5.0)\n",
    "plt.show()\n"
   ]
  },
  {
   "cell_type": "code",
   "execution_count": 24,
   "id": "2d96fe4b",
   "metadata": {
    "id": "2d96fe4b"
   },
   "outputs": [],
   "source": [
    "y =  np.log1p(y)\n",
    "for col in x.columns:\n",
    "    if np.abs(x[col].skew()) > 0.3:\n",
    "        x[col] = np.log1p(x[col])"
   ]
  },
  {
   "cell_type": "code",
   "execution_count": 25,
   "id": "f6b6cb75",
   "metadata": {
    "colab": {
     "base_uri": "https://localhost:8080/"
    },
    "id": "f6b6cb75",
    "outputId": "e1a4dfb8-8a08-49ae-baae-135b2b8f4e58"
   },
   "outputs": [],
   "source": [
    "from sklearn import datasets, linear_model\n",
    "from sklearn.model_selection import cross_val_score, KFold\n",
    "from sklearn.model_selection import cross_val_predict\n",
    "from sklearn.pipeline import make_pipeline\n",
    "from sklearn.preprocessing import PolynomialFeatures\n",
    "import numpy as np\n",
    "import pandas as pd\n",
    "\n",
    "# Creación del modelo de regresión lineal\n",
    "l_regression = linear_model.LinearRegression()\n",
    "\n",
    "# Configuración de la validación cruzada con 10 splits\n",
    "kf = KFold(n_splits=10)\n",
    "\n",
    "# Escalado de las características\n",
    "min_max_scaler = preprocessing.MinMaxScaler()\n",
    "x_scaled = min_max_scaler.fit_transform(x)\n",
    "\n",
    "# Almacenamiento de los resultados de las predicciones\n",
    "results = pd.DataFrame({'Actual': y})\n",
    "\n",
    "# Evaluación del modelo de regresión lineal\n",
    "scores = cross_val_score(l_regression, x_scaled, y, cv=kf, scoring='neg_mean_squared_error')\n",
    "y_pred_lr = cross_val_predict(l_regression, x_scaled, y, cv=kf)\n",
    "results['Linear Regression'] = y_pred_lr\n",
    "\n",
    "# Creación del modelo de regresión Ridge\n",
    "l_ridge = linear_model.Ridge()\n",
    "\n",
    "# Evaluación del modelo de regresión Ridge\n",
    "scores = cross_val_score(l_ridge, x_scaled, y, cv=kf, scoring='neg_mean_squared_error')\n",
    "y_pred_rr = cross_val_predict(l_ridge, x_scaled, y, cv=kf)\n",
    "results['Ridge Regression'] = y_pred_rr\n",
    "\n",
    "# Modelo de regresión polinomial con grado 3\n",
    "poly_features = PolynomialFeatures(degree=3)\n",
    "x_poly = poly_features.fit_transform(x_scaled)\n",
    "\n",
    "model = make_pipeline(linear_model.Ridge())\n",
    "\n",
    "# Evaluación del modelo de regresión polinomial\n",
    "scores = cross_val_score(model, x_poly, y, cv=kf, scoring='neg_mean_squared_error')\n",
    "y_pred_poly = cross_val_predict(model, x_poly, y, cv=kf)\n",
    "results['Polynomial Ridge'] = y_pred_poly\n",
    "\n",
    "# Imprimir el DataFrame con los resultados\n",
    "print(results)\n"
   ]
  },
  {
   "cell_type": "code",
   "execution_count": 26,
   "id": "e580c722",
   "metadata": {
    "colab": {
     "base_uri": "https://localhost:8080/"
    },
    "id": "e580c722",
    "outputId": "8c61e259-e15c-4830-d143-e245305ff444"
   },
   "outputs": [],
   "source": [
    "from sklearn.svm import SVR\n",
    "from sklearn.model_selection import GridSearchCV\n",
    "\n",
    "# Creación del modelo de Regresión de Vectores de Soporte con kernel RBF y parámetros C y gamma predefinidos\n",
    "svr_rbf = SVR(kernel='rbf', C=1e3, gamma=0.1)\n",
    "\n",
    "# Evaluación del modelo de Regresión de Vectores de Soporte\n",
    "scores = cross_val_score(svr_rbf, x_scaled, y, cv=kf, scoring='neg_mean_squared_error')\n",
    "\n",
    "# Almacenamiento de los resultados en el diccionario scores_map\n",
    "scores_map = {}\n",
    "scores_map['SVR'] = scores\n",
    "\n",
    "# Impresión del promedio y la desviación estándar del MSE\n",
    "print(\"MSE SVR: %0.2f (+/- %0.2f)\" % (scores.mean(), scores.std()))\n",
    "\n",
    "# Ajuste del modelo de Regresión de Vectores de Soporte a todos los datos\n",
    "svr_rbf.fit(x_scaled, y)\n",
    "\n",
    "# Predicciones con el modelo ajustado\n",
    "y_pred = svr_rbf.predict(x_scaled)\n",
    "\n",
    "# Creación de una tabla con los valores actuales y los valores predichos\n",
    "results = pd.DataFrame({'Actual': y, 'Predicted': y_pred})\n",
    "print(results)\n"
   ]
  },
  {
   "cell_type": "code",
   "execution_count": null,
   "id": "a25789e5",
   "metadata": {
    "colab": {
     "base_uri": "https://localhost:8080/"
    },
    "id": "a25789e5",
    "outputId": "acc92a33-da12-4beb-802b-7113d5e797a7"
   },
   "outputs": [],
   "source": [
    "from sklearn.tree import DecisionTreeRegressor\n",
    "\n",
    "# Creación del modelo de Regresión por Árboles de Decisión con una profundidad máxima de 5\n",
    "desc_tr = DecisionTreeRegressor(max_depth=5)\n",
    "\n",
    "# Evaluación del modelo de Regresión por Árboles de Decisión\n",
    "scores = cross_val_score(desc_tr, x_scaled, y, cv=kf, scoring='neg_mean_squared_error')\n",
    "\n",
    "# Almacenamiento de los resultados en el diccionario scores_map\n",
    "scores_map['DecisionTreeRegressor'] = scores\n",
    "\n",
    "# Impresión del promedio y la desviación estándar del MSE\n",
    "print(\"MSE DecisionTreeRegressor: %0.2f (+/- %0.2f)\" % (scores.mean(), scores.std()))\n",
    "\n",
    "# Ajuste del modelo de Regresión por Árboles de Decisión a todos los datos\n",
    "desc_tr.fit(x_scaled, y)\n",
    "\n",
    "# Predicciones con el modelo ajustado\n",
    "y_pred = desc_tr.predict(x_scaled)\n",
    "\n",
    "# Creación de una tabla con los valores actuales y los valores predichos\n",
    "results = pd.DataFrame({'Actual': y, 'Predicted': y_pred})\n",
    "print(results)"
   ]
  },
  {
   "cell_type": "code",
   "execution_count": null,
   "id": "8f36f17a",
   "metadata": {
    "colab": {
     "base_uri": "https://localhost:8080/"
    },
    "id": "8f36f17a",
    "outputId": "8321d3d5-a148-4900-d651-90014c1108d9"
   },
   "outputs": [],
   "source": [
    "from sklearn.neighbors import KNeighborsRegressor\n",
    "\n",
    "# Creación del modelo de Regresión por Vecinos más Cercanos con 7 vecinos\n",
    "knn = KNeighborsRegressor(n_neighbors=7)\n",
    "\n",
    "# Evaluación del modelo de Regresión por Vecinos más Cercanos\n",
    "scores = cross_val_score(knn, x_scaled, y, cv=kf, scoring='neg_mean_squared_error')\n",
    "\n",
    "# Almacenamiento de los resultados en el diccionario scores_map\n",
    "scores_map['KNeighborsRegressor'] = scores\n",
    "\n",
    "# Impresión del promedio y la desviación estándar del MSE\n",
    "print(\"MSE KNeighborsRegressor: %0.2f (+/- %0.2f)\" % (scores.mean(), scores.std()))\n",
    "\n",
    "#Búsqueda del número óptimo de vecinos para el modelo de Regresión por Vecinos más Cercanos utilizando GridSearchCV\n",
    "# grid_sv = GridSearchCV(knn, cv=kf, param_grid={\"n_neighbors\" : [2, 3, 4, 5, 6, 7]}, scoring='neg_mean_squared_error')\n",
    "# grid_sv.fit(x_scaled, y)\n",
    "# print(\"Best classifier :\", grid_sv.best_estimator_)"
   ]
  },
  {
   "cell_type": "code",
   "execution_count": 11,
   "id": "df3ef13c",
   "metadata": {
    "colab": {
     "base_uri": "https://localhost:8080/"
    },
    "id": "df3ef13c",
    "outputId": "ae0cd8b3-7387-4158-b184-243be489221c"
   },
   "outputs": [],
   "source": [
    "from sklearn.ensemble import GradientBoostingRegressor\n",
    "\n",
    "# Creación del modelo de Regresión por Gradient Boosting con los parámetros especificados\n",
    "gbr = GradientBoostingRegressor(alpha=0.9, learning_rate=0.05, max_depth=2, min_samples_leaf=5, min_samples_split=2, n_estimators=100, random_state=30)\n",
    "\n",
    "# Evaluación del modelo de Regresión por Gradient Boosting\n",
    "scores = cross_val_score(gbr, x_scaled, y, cv=kf, scoring='neg_mean_squared_error')\n",
    "\n",
    "# Almacenamiento de los resultados en el diccionario scores_map\n",
    "scores_map['GradientBoostingRegressor'] = scores\n",
    "\n",
    "# Impresión del promedio y la desviación estándar del MSE\n",
    "print(\"MSE GradientBoostingRegressor: %0.2f (+/- %0.2f)\" % (scores.mean(), scores.std()))\n",
    "\n",
    "#Búsqueda de los mejores parámetros para el modelo de Regresión por Gradient Boosting utilizando GridSearchCV\n",
    "# param_grid = {'n_estimators': [100, 200], 'learning_rate': [0.1, 0.05, 0.02], 'max_depth': [2, 4, 6], 'min_samples_leaf': [3, 5, 9]}\n",
    "# grid_sv = GridSearchCV(gbr, cv=kf, param_grid=param_grid, scoring='neg_mean_squared_error')\n",
    "# grid_sv.fit(x_scaled, y)\n",
    "# print(\"Best classifier :\", grid_sv.best_estimator_)\n"
   ]
  },
  {
   "cell_type": "code",
   "execution_count": 12,
   "id": "bbadc123",
   "metadata": {
    "colab": {
     "base_uri": "https://localhost:8080/",
     "height": 476
    },
    "id": "bbadc123",
    "outputId": "a5348b3e-460f-48d4-c6dd-63c5ae088614"
   },
   "outputs": [],
   "source": [
    "# Creación de la figura\n",
    "plt.figure(figsize=(20, 10))\n",
    "\n",
    "# Creación del gráfico de caja (boxplot) utilizando los datos almacenados en scores_map\n",
    "scores_map = pd.DataFrame(scores_map)\n",
    "scores_map.boxplot()\n",
    "\n",
    "# Configuración de etiquetas y título del gráfico\n",
    "plt.xlabel('Modelos')\n",
    "plt.ylabel('MSE')\n",
    "plt.title('Comparación de MSE entre modelos')\n",
    "\n",
    "# Mostrar el gráfico\n",
    "plt.show()"
   ]
  },
  {
   "cell_type": "code",
   "execution_count": 13,
   "id": "3a622330",
   "metadata": {
    "colab": {
     "base_uri": "https://localhost:8080/",
     "height": 1000
    },
    "id": "3a622330",
    "outputId": "9150e131-3bfc-4d7a-f663-5627714fba37"
   },
   "outputs": [],
   "source": [
    "import matplotlib.pyplot as plt\n",
    "\n",
    "# Plotting the comparison for Linear Regression\n",
    "plt.figure(figsize=(10, 6))\n",
    "plt.scatter(results.index, results['Actual'], color='blue', label='Actual')\n",
    "plt.scatter(results.index, results['Predicted'], color='red', label='Linear Regression')\n",
    "plt.xlabel('Data Point')\n",
    "plt.ylabel('MEDV')\n",
    "plt.title('Comparison of Actual and Predicted Values (Linear Regression)')\n",
    "plt.legend()\n",
    "plt.show()\n",
    "\n",
    "# Plotting the comparison for Ridge Regression\n",
    "plt.figure(figsize=(10, 6))\n",
    "plt.scatter(results.index, results['Actual'], color='blue', label='Actual')\n",
    "plt.scatter(results.index, results['Predicted'], color='green', label='Ridge Regression')\n",
    "plt.xlabel('Data Point')\n",
    "plt.ylabel('MEDV')\n",
    "plt.title('Comparison of Actual and Predicted Values (Ridge Regression)')\n",
    "plt.legend()\n",
    "plt.show()\n",
    "\n",
    "# Plotting the comparison for Polynomial Ridge\n",
    "plt.figure(figsize=(10, 6))\n",
    "plt.scatter(results.index, results['Actual'], color='blue', label='Actual')\n",
    "plt.scatter(results.index, results['Predicted'], color='orange', label='Polynomial Ridge')\n",
    "plt.xlabel('Data Point')\n",
    "plt.ylabel('MEDV')\n",
    "plt.title('Comparison of Actual and Predicted Values (Polynomial Ridge)')\n",
    "plt.legend()\n",
    "plt.show()\n"
   ]
  },
  {
   "cell_type": "code",
   "execution_count": 14,
   "id": "hdDJtM283We2",
   "metadata": {
    "colab": {
     "base_uri": "https://localhost:8080/",
     "height": 1000
    },
    "id": "hdDJtM283We2",
    "outputId": "bc069561-5f53-4cef-d22b-a3568cf21ab5"
   },
   "outputs": [],
   "source": [
    "import pandas as pd\n",
    "import numpy as np\n",
    "import matplotlib.pyplot as plt\n",
    "from pandas import read_csv\n",
    "from sklearn import preprocessing\n",
    "from sklearn.model_selection import train_test_split\n",
    "\n",
    "# Le damos formato al dataset con los nombres de cada columna\n",
    "column_names = ['CRIM', 'ZN', 'INDUS', 'CHAS', 'NOX', 'RM', 'AGE', 'DIS', 'RAD', 'TAX', 'PTRATIO', 'B', 'LSTAT', 'MEDV']\n",
    "data = pd.read_csv('housing.csv', names=column_names)\n",
    "data_copy = data.copy()\n",
    "\n",
    "# Grafica de correlación\n",
    "plt.figure(figsize=(10, 6))\n",
    "corr_matrix = data_copy.corr()\n",
    "plt.imshow(corr_matrix, cmap='coolwarm', interpolation='nearest')\n",
    "plt.colorbar()\n",
    "plt.xticks(np.arange(len(column_names)), column_names, rotation=45)\n",
    "plt.yticks(np.arange(len(column_names)), column_names)\n",
    "plt.title('Matriz de correlación')\n",
    "plt.show()\n",
    "\n",
    "# Matriz de correlación\n",
    "print(corr_matrix)\n",
    "\n",
    "# Vemos la correlación de los atributos utilizando scatter matrix de pandas\n",
    "pd.plotting.scatter_matrix(data_copy, figsize=(15, 15), diagonal='kde')\n",
    "plt.show()\n",
    "\n",
    "# Gráfico de dispersión de los datos\n",
    "plt.figure(figsize=(10, 6))\n",
    "plt.scatter(data_copy['RM'], data_copy['MEDV'], color='blue')\n",
    "plt.xlabel('Número promedio de habitaciones por vivienda')\n",
    "plt.ylabel('Valor medio de viviendas ocupadas por propietarios')\n",
    "plt.title('Gráfico de dispersión: Número promedio de habitaciones vs Valor medio de viviendas')\n",
    "plt.show()\n",
    "\n"
   ]
  },
  {
   "cell_type": "code",
   "execution_count": null,
   "id": "a5429a56",
   "metadata": {},
   "outputs": [],
   "source": []
  },
  {
   "cell_type": "code",
   "execution_count": null,
   "id": "63ffd1c6",
   "metadata": {},
   "outputs": [],
   "source": []
  }
 ],
 "metadata": {
  "colab": {
   "provenance": []
  },
  "kernelspec": {
   "display_name": "Python 3 (ipykernel)",
   "language": "python",
   "name": "python3"
  },
  "language_info": {
   "codemirror_mode": {
    "name": "ipython",
    "version": 3
   },
   "file_extension": ".py",
   "mimetype": "text/x-python",
   "name": "python",
   "nbconvert_exporter": "python",
   "pygments_lexer": "ipython3",
   "version": "3.9.7"
  }
 },
 "nbformat": 4,
 "nbformat_minor": 5
}
